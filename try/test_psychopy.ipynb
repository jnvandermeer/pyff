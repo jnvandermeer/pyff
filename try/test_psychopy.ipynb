{
 "cells": [
  {
   "cell_type": "code",
   "execution_count": 4,
   "metadata": {},
   "outputs": [
    {
     "name": "stdout",
     "output_type": "stream",
     "text": [
      "hallo!\n"
     ]
    }
   ],
   "source": [
    "from psychopy import visual, core  # import some libraries from PsychoPy\n",
    "from psychopy import logging\n",
    "logging.console.setLevel(logging.CRITICAL)\n",
    "\n",
    "#create a window\n",
    "mywin = visual.Window([800,600], monitor=\"testMonitor\", units=\"deg\", winType=\"pyglet\", fullscr=False)\n",
    "\n",
    "#create some Astimuli\n",
    "grating = visual.GratingStim(win=mywin, mask=\"circle\", size=3, pos=[-4,0], sf=3)\n",
    "fixation = visual.GratingStim(win=mywin, size=0.5, pos=[0,0], sf=0, rgb=-1)\n",
    "\n",
    "#draw the stimuli and update the window\n",
    "grating.draw()\n",
    "fixation.draw()\n",
    "mywin.update()\n",
    "\n",
    "#pause, so you get a chance to see it!\n",
    "core.wait(5.0)\n",
    "\n",
    "print('hallo!')\n",
    "\n",
    "mywin.close()"
   ]
  },
  {
   "cell_type": "code",
   "execution_count": null,
   "metadata": {},
   "outputs": [],
   "source": [
    "class PsychopyFeedback(MainloopFeedback):\n",
    "    def init(self):\n",
    "        \n",
    "\n",
    "        \n",
    "    def pre_mainloop(self):\n",
    "        \n",
    "        self.init_psychopy() # call the init for psychopy...\n",
    "        \n",
    "\n",
    "        \n",
    "    def post_mainloop(self):\n",
    "        \n",
    "        self.quit_pygame()\n",
    "        \n",
    "\n",
    "        \n",
    "    def pause_tick(self):\n",
    "        pass\n",
    "\n",
    "\n",
    "    def play_tick(self):\n",
    "        pass\n",
    "        \n",
    "        \n",
    "    def tick(self):\n",
    "        \n",
    "        # just wait 3 seconds..\n",
    "        time.sleep(3)\n",
    "        \n",
    "        self.on_stop()\n",
    "        # do stuff depending on the Pygame Event Queue\n",
    "        \n",
    "        \n",
    "        \n",
    "    def init_psychopy(self):\n",
    "        \n",
    "        from __future__ import absolute_import, division\n",
    "        from psychopy import locale_setup, sound, gui, visual, core, data, event, logging\n",
    "        from psychopy.constants import (NOT_STARTED, STARTED, PLAYING, PAUSED,\n",
    "                                        STOPPED, FINISHED, PRESSED, RELEASED, FOREVER)\n",
    "        import numpy as np  # whole numpy lib is available, prepend 'np.'\n",
    "        from numpy import (sin, cos, tan, log, log10, pi, average,\n",
    "                           sqrt, std, deg2rad, rad2deg, linspace, asarray)\n",
    "        from numpy.random import random, randint, normal, shuffle\n",
    "        import os  # handy system and path functions\n",
    "        import sys  # to get file system encoding\n",
    "        import time\n",
    "        \n",
    "        # screen setup\n",
    "        SCREEN_SIZE = (1920,1080)                 # screen res, my screens are identical \n",
    "        win0 = visual.Window(SCREEN_SIZE, monitor='Monitor_00', screen=0, fullscr=False, allowGUI=False)\n",
    "        win1 = visual.Window(SCREEN_SIZE, monitor='Monitor_00', screen=1, fullscr=True, allowGUI=False)\n",
    "\n",
    "        # the TRICK == to then close win1.\n",
    "        # win0 is (always?) the window which is where the main Desktop UI resides\n",
    "        self.win=win0\n",
    "        win1.close()\n",
    "        \n",
    "        \n",
    "    def close_psychopy(self):\n",
    "        self.win.close()\n",
    "        core.quit() # core has been imported into the 'class' namespace, right?\n",
    "        # do stuff like write the file(s), etc...\n",
    "            \n",
    "        "
   ]
  }
 ],
 "metadata": {
  "kernelspec": {
   "display_name": "Python 2",
   "language": "python",
   "name": "python2"
  },
  "language_info": {
   "codemirror_mode": {
    "name": "ipython",
    "version": 2
   },
   "file_extension": ".py",
   "mimetype": "text/x-python",
   "name": "python",
   "nbconvert_exporter": "python",
   "pygments_lexer": "ipython2",
   "version": "2.7.13"
  }
 },
 "nbformat": 4,
 "nbformat_minor": 2
}
