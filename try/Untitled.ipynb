{
 "cells": [
  {
   "cell_type": "code",
   "execution_count": 1,
   "metadata": {},
   "outputs": [],
   "source": [
    "from psychopy import visual, core\n",
    "\n",
    "#setup stimulus\n",
    "win=visual.Window([400,400])\n",
    "gabor = visual.GratingStim(win, tex='sin', mask='gauss', sf=5, name='gabor')\n",
    "gabor.setAutoDraw(True)  # automatically draw every frame\n",
    "gabor.autoLog=False#or we'll get many messages about phase change\n",
    "\n",
    "clock = core.Clock()\n",
    "#let's draw a stimulus for 2s, drifting for middle 0.5s\n",
    "while clock.getTime() < 2.0:  # clock times are in seconds\n",
    "    if 0.5 <= clock.getTime() < 1.0:\n",
    "        gabor.setPhase(0.1, '+')  # increment by 10th of cycle\n",
    "    win.flip()"
   ]
  },
  {
   "cell_type": "code",
   "execution_count": null,
   "metadata": {},
   "outputs": [],
   "source": []
  }
 ],
 "metadata": {
  "kernelspec": {
   "display_name": "Python 2",
   "language": "python",
   "name": "python2"
  },
  "language_info": {
   "codemirror_mode": {
    "name": "ipython",
    "version": 2
   },
   "file_extension": ".py",
   "mimetype": "text/x-python",
   "name": "python",
   "nbconvert_exporter": "python",
   "pygments_lexer": "ipython2",
   "version": "2.7.13"
  }
 },
 "nbformat": 4,
 "nbformat_minor": 2
}
